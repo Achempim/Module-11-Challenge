{
 "cells": [
  {
   "attachments": {},
   "cell_type": "markdown",
   "metadata": {},
   "source": [
    "# Module 11 Challenge\n",
    "## Deliverable 1: Scrape Titles and Preview Text from Mars News"
   ]
  },
  {
   "cell_type": "code",
   "execution_count": 3,
   "metadata": {},
   "outputs": [
    {
     "ename": "IndentationError",
     "evalue": "expected an indented block after 'try' statement on line 3804 (base.py, line 3805)",
     "output_type": "error",
     "traceback": [
      "Traceback \u001b[1;36m(most recent call last)\u001b[0m:\n",
      "\u001b[0m  File \u001b[0;32m~\\AppData\\Roaming\\Python\\Python312\\site-packages\\IPython\\core\\interactiveshell.py:3577\u001b[0m in \u001b[0;35mrun_code\u001b[0m\n    exec(code_obj, self.user_global_ns, self.user_ns)\u001b[0m\n",
      "\u001b[0m  Cell \u001b[0;32mIn[3], line 3\u001b[0m\n    import pandas as pd\u001b[0m\n",
      "\u001b[0m  File \u001b[0;32mc:\\Users\\HP\\AppData\\Local\\Programs\\Python\\Python312\\Lib\\site-packages\\pandas\\__init__.py:62\u001b[0m\n    from pandas.core.api import (\u001b[0m\n",
      "\u001b[0m  File \u001b[0;32mc:\\Users\\HP\\AppData\\Local\\Programs\\Python\\Python312\\Lib\\site-packages\\pandas\\core\\api.py:47\u001b[0m\n    from pandas.core.groupby import (\u001b[0m\n",
      "\u001b[0m  File \u001b[0;32mc:\\Users\\HP\\AppData\\Local\\Programs\\Python\\Python312\\Lib\\site-packages\\pandas\\core\\groupby\\__init__.py:1\u001b[0m\n    from pandas.core.groupby.generic import (\u001b[0m\n",
      "\u001b[0m  File \u001b[0;32mc:\\Users\\HP\\AppData\\Local\\Programs\\Python\\Python312\\Lib\\site-packages\\pandas\\core\\groupby\\generic.py:68\u001b[0m\n    from pandas.core.frame import DataFrame\u001b[0m\n",
      "\u001b[0m  File \u001b[0;32mc:\\Users\\HP\\AppData\\Local\\Programs\\Python\\Python312\\Lib\\site-packages\\pandas\\core\\frame.py:149\u001b[0m\n    from pandas.core.generic import (\u001b[0m\n",
      "\u001b[0m  File \u001b[0;32mc:\\Users\\HP\\AppData\\Local\\Programs\\Python\\Python312\\Lib\\site-packages\\pandas\\core\\generic.py:152\u001b[0m\n    from pandas.core import (\u001b[0m\n",
      "\u001b[0m  File \u001b[0;32mc:\\Users\\HP\\AppData\\Local\\Programs\\Python\\Python312\\Lib\\site-packages\\pandas\\core\\indexing.py:79\u001b[0m\n    from pandas.core.indexes.api import (\u001b[0m\n",
      "\u001b[1;36m  File \u001b[1;32mc:\\Users\\HP\\AppData\\Local\\Programs\\Python\\Python312\\Lib\\site-packages\\pandas\\core\\indexes\\api.py:20\u001b[1;36m\n\u001b[1;33m    from pandas.core.indexes.base import (\u001b[1;36m\n",
      "\u001b[1;36m  File \u001b[1;32mc:\\Users\\HP\\AppData\\Local\\Programs\\Python\\Python312\\Lib\\site-packages\\pandas\\core\\indexes\\base.py:3805\u001b[1;36m\u001b[0m\n\u001b[1;33m    return self._engine.get_loc(casted_key)\u001b[0m\n\u001b[1;37m    ^\u001b[0m\n\u001b[1;31mIndentationError\u001b[0m\u001b[1;31m:\u001b[0m expected an indented block after 'try' statement on line 3804\n"
     ]
    }
   ],
   "source": [
    "# Import relevant libraries\n",
    "import time\n",
    "import pandas as pd\n",
    "from selenium import webdriver\n",
    "from selenium.webdriver.chrome.service import Service as ChromeService\n",
    "from webdriver_manager.chrome import ChromeDriverManager\n",
    "from bs4 import BeautifulSoup"
   ]
  },
  {
   "attachments": {},
   "cell_type": "markdown",
   "metadata": {},
   "source": [
    "### Step 1: Visit the Website\n",
    "\n",
    "1. Use automated browsing to visit the [Mars news site](https://static.bc-edx.com/data/web/mars_news/index.html). Inspect the page to identify which elements to scrape.\n",
    "\n",
    "      > **Hint** To identify which elements to scrape, you might want to inspect the page by using Chrome DevTools."
   ]
  },
  {
   "cell_type": "code",
   "execution_count": 3,
   "metadata": {},
   "outputs": [
    {
     "ename": "NameError",
     "evalue": "name 'ChromeDriverManager' is not defined",
     "output_type": "error",
     "traceback": [
      "\u001b[1;31m---------------------------------------------------------------------------\u001b[0m",
      "\u001b[1;31mNameError\u001b[0m                                 Traceback (most recent call last)",
      "Cell \u001b[1;32mIn[3], line 3\u001b[0m\n\u001b[0;32m      1\u001b[0m \u001b[38;5;66;03m# Initialize the browser using the ChromeDriverManager\u001b[39;00m\n\u001b[1;32m----> 3\u001b[0m Browser \u001b[38;5;241m=\u001b[39m {\u001b[38;5;124m'\u001b[39m\u001b[38;5;124mbrowser\u001b[39m\u001b[38;5;124m'\u001b[39m: \u001b[43mChromeDriverManager\u001b[49m()\u001b[38;5;241m.\u001b[39minstall()}\n\u001b[0;32m      4\u001b[0m Browser \u001b[38;5;241m=\u001b[39m ChromeDriverManager\n\u001b[0;32m      6\u001b[0m \u001b[38;5;66;03m# Visit the website\u001b[39;00m\n",
      "\u001b[1;31mNameError\u001b[0m: name 'ChromeDriverManager' is not defined"
     ]
    }
   ],
   "source": [
    "# Initialize the browser using the ChromeDriverManager\n",
    "\n",
    "Browser = {'browser': ChromeDriverManager().install()}\n",
    "Browser = ChromeDriverManager\n",
    "\n",
    "# Visit the website\n",
    "url = 'https://static.bc-edx.com/data/web/mars_news/index.html'\n",
    "Browser (url)"
   ]
  },
  {
   "attachments": {},
   "cell_type": "markdown",
   "metadata": {},
   "source": [
    "### Step 2: Scrape the Website\n",
    "\n",
    "Create a Beautiful Soup object and use it to extract text elements from the website."
   ]
  },
  {
   "cell_type": "code",
   "execution_count": null,
   "metadata": {},
   "outputs": [
    {
     "name": "stdout",
     "output_type": "stream",
     "text": [
      "NASA Marks 25 Years Since Pathfinder Touched Down on Mars\n",
      "NASA's Perseverance Rover Captures Video of Solar Eclipse on Mars\n",
      "NASA, UAE Mars Missions Agree to Share Science Data\n",
      "Images and news content extracted from NASA's Mars News website on November 9, 2022.\n",
      "         Images used in accordance with the JPL Image Use Policy.\n",
      "This site is operated by edX Boot Camps LLC for educational purposes only.  \n",
      "            This is not a website endorsed by NASA. This website is intended only for internal academic purposes.\n"
     ]
    }
   ],
   "source": [
    "# Create a Beautiful Soup Object\n",
    "# # Fetch the webpage content\n",
    "response = requests.get(url)\n",
    "response.raise_for_status()  # Ensure we notice bad responses\n",
    "\n",
    "# Parse the webpage content using Beautiful Soup\n",
    "soup = BeautifulSoup(response.text, 'html.parser')\n",
    "\n",
    "# Extract text elements from the webpage\n",
    "# Example: Extract all text within paragraph tags\n",
    "paragraphs = soup.find_all('p')\n",
    "\n",
    "# Print each paragraph text\n",
    "for para in paragraphs:\n",
    "    print(para.get_text())\n"
   ]
  },
  {
   "cell_type": "code",
   "execution_count": null,
   "metadata": {},
   "outputs": [
    {
     "name": "stdout",
     "output_type": "stream",
     "text": [
      "News - Mars Exploration Program\n",
      "MARS Planet Science\n",
      "Exploration Program\n",
      "The Red Planet\n",
      "The Program\n",
      "News & Events\n",
      "Multimedia\n",
      "Missions\n",
      "More\n",
      "News\n",
      "Latest\n",
      "All Categories\n",
      "November 9, 2022\n",
      "NASA's MAVEN Observes Martian Light Show Caused by Major Solar Storm\n",
      "For the first time in its eight years orbiting Mars, NASAâs MAVEN mission witnessed two different types of ultraviolet aurorae simultaneously, the result of solar storms that began on Aug. 27.\n",
      "November 1, 2022\n",
      "NASA Prepares to Say 'Farewell' to InSight Spacecraft\n",
      "A closer look at what goes into wrapping up the mission as the spacecraftâs power supply continues to dwindle.\n",
      "October 28, 2022\n",
      "NASA and ESA Agree on Next Steps to Return Mars Samples to Earth\n",
      "The agencyâs Perseverance rover will establish the first sample depot on Mars.\n",
      "October 27, 2022\n",
      "NASA's InSight Lander Detects Stunning Meteoroid Impact on Mars\n",
      "The agencyâs lander felt the ground shake during the impact while cameras aboard the Mars Reconnaissance Orbiter spotted the yawning new crater from space.\n",
      "October 21, 2022\n",
      "NASA To Host Briefing on InSight, Mars Reconnaissance Orbiter Findings\n",
      "Scientists from two Mars missions will discuss how they combined images and data for a major finding on the Red Planet.\n",
      "October 20, 2022\n",
      "Why NASA Is Trying To Crash Land on Mars\n",
      "Like a carâs crumple zone, the experimental SHIELD lander is designed to absorb a hard impact.\n",
      "October 19, 2022\n",
      "Curiosity Mars Rover Reaches Long-Awaited Salty Region\n",
      "After years of climbing, the Mars rover has arrived at a special region believed to have formed as Marsâ climate was drying.\n",
      "October 12, 2022\n",
      "Mars Mission Shields Up for Tests\n",
      "Protecting Mars Sample Return spacecraft from micrometeorites requires high-caliber work.\n",
      "October 7, 2022\n",
      "NASA's InSight Waits Out Dust Storm\n",
      "InSightâs team is taking steps to help the solar-powered lander continue operating for as long as possible.\n",
      "September 19, 2022\n",
      "NASA's InSight 'Hears' Its First Meteoroid Impacts on Mars\n",
      "The Mars landerâs seismometer has picked up vibrations from four separate impacts in the past two years.\n",
      "September 15, 2022\n",
      "NASA's Perseverance Rover Investigates Geologically Rich Mars Terrain\n",
      "The latest findings provide greater detail on a region of the Red Planet that has a watery past and is yielding promising samples for the NASA-ESA Mars Sample Return campaign.\n",
      "September 12, 2022\n",
      "NASA to Host Briefing on Perseverance Mars Rover Mission Operations\n",
      "Members of the mission will discuss the roverâs activities as it gathers samples in an ancient river delta.\n",
      "August 25, 2022\n",
      "NASA's Perseverance Makes New Discoveries in Mars' Jezero Crater\n",
      "The rover found that Jezero Craterâs floor is made up of volcanic rocks that have interacted with water.\n",
      "August 5, 2022\n",
      "10 Years Since Landing, NASA's Curiosity Mars Rover Still Has Drive\n",
      "Despite signs of wear, the intrepid spacecraft is about to start an exciting new chapter of its mission as it climbs a Martian mountain.\n",
      "August 4, 2022\n",
      "SAM's Top 5 Discoveries Aboard NASA's Curiosity Rover at Mars\n",
      "âSelfieâ of the Curiosity rover with inset showing the SAM instrument prior to installation on the rover.\n",
      "More\n",
      "You Might Also Like\n",
      "NASA Marks 25 Years Since Pathfinder Touched Down on Mars\n",
      "NASA's Perseverance Rover Captures Video of Solar Eclipse on Mars\n",
      "NASA, UAE Mars Missions Agree to Share Science Data\n",
      "The Red Planet\n",
      "Dashboard\n",
      "Science Goals\n",
      "The Planet\n",
      "The Program\n",
      "Mission Statement\n",
      "About the Program\n",
      "Organization Why Mars?\n",
      "Multimedia\n",
      "Images\n",
      "Videos\n",
      "More Resources\n",
      "Missions\n",
      "Past\n",
      "Present\n",
      "Future\n",
      "Images and news content extracted from NASA's\n",
      "Mars News\n",
      "website on November 9, 2022.\n",
      "Images used in accordance with the\n",
      "JPL Image Use Policy\n",
      ".\n",
      "This site is operated by edX Boot Camps LLC for educational purposes only.\n",
      "This is not a website endorsed by NASA. This website is intended only for internal academic purposes.\n"
     ]
    }
   ],
   "source": [
    "# Extract all the text elements\n",
    "# #import requests\n",
    "#from bs4 import BeautifulSoup\n",
    "\n",
    "## URL of the website\n",
    "#url = 'https://static.bc-edx.com/data/web/mars_news/index.html'\n",
    "\n",
    "# Fetch the webpage content\n",
    "response = requests.get(url)\n",
    "response.raise_for_status()  # Ensure we notice bad responses\n",
    "\n",
    "# Parse the webpage content using Beautiful Soup\n",
    "soup = BeautifulSoup(response.text, 'html.parser')\n",
    "\n",
    "# Extract all text elements from the webpage\n",
    "# Use the .get_text() method to get all text content\n",
    "text_content = soup.get_text(separator='\\n', strip=True)\n",
    "\n",
    "# Print the extracted text content\n",
    "print(text_content)\n"
   ]
  },
  {
   "attachments": {},
   "cell_type": "markdown",
   "metadata": {},
   "source": [
    "### Step 3: Store the Results\n",
    "\n",
    "Extract the titles and preview text of the news articles that you scraped. Store the scraping results in Python data structures as follows:\n",
    "\n",
    "* Store each title-and-preview pair in a Python dictionary. And, give each dictionary two keys: `title` and `preview`. An example is the following:\n",
    "\n",
    "  ```python\n",
    "  {'title': \"NASA's MAVEN Observes Martian Light Show Caused by Major Solar Storm\", \n",
    "   'preview': \"For the first time in its eight years orbiting Mars, NASA’s MAVEN mission witnessed two different types of ultraviolet aurorae simultaneously, the result of solar storms that began on Aug. 27.\"\n",
    "  }\n",
    "  ```\n",
    "\n",
    "* Store all the dictionaries in a Python list.\n",
    "\n",
    "* Print the list in your notebook."
   ]
  },
  {
   "cell_type": "code",
   "execution_count": null,
   "metadata": {},
   "outputs": [
    {
     "name": "stdout",
     "output_type": "stream",
     "text": [
      "[]\n"
     ]
    }
   ],
   "source": [
    "# Create an empty list to store the dictionaries\n",
    "articles = []\n",
    "\n",
    "# Print the initialized list\n",
    "print(articles)\n"
   ]
  },
  {
   "cell_type": "code",
   "execution_count": null,
   "metadata": {},
   "outputs": [
    {
     "name": "stdout",
     "output_type": "stream",
     "text": [
      "List of articles with titles and previews:\n",
      "\n",
      "Title: NASA's MAVEN Observes Martian Light Show Caused by Major Solar Storm\n",
      "Preview: For the first time in its eight years orbiting Mars, NASAâs MAVEN mission witnessed two different types of ultraviolet aurorae simultaneously, the result of solar storms that began on Aug. 27.\n",
      "---\n",
      "Title: NASA Prepares to Say 'Farewell' to InSight Spacecraft\n",
      "Preview: A closer look at what goes into wrapping up the mission as the spacecraftâs power supply continues to dwindle.\n",
      "---\n",
      "Title: NASA and ESA Agree on Next Steps to Return Mars Samples to Earth\n",
      "Preview: The agencyâs Perseverance rover will establish the first sample depot on Mars.\n",
      "---\n",
      "Title: NASA's InSight Lander Detects Stunning Meteoroid Impact on Mars\n",
      "Preview: The agencyâs lander felt the ground shake during the impact while cameras aboard the Mars Reconnaissance Orbiter spotted the yawning new crater from space.\n",
      "---\n",
      "Title: NASA To Host Briefing on InSight, Mars Reconnaissance Orbiter Findings\n",
      "Preview: Scientists from two Mars missions will discuss how they combined images and data for a major finding on the Red Planet.\n",
      "---\n",
      "Title: Why NASA Is Trying To Crash Land on Mars\n",
      "Preview: Like a carâs crumple zone, the experimental SHIELD lander is designed to absorb a hard impact.\n",
      "---\n",
      "Title: Curiosity Mars Rover Reaches Long-Awaited Salty Region\n",
      "Preview: After years of climbing, the Mars rover has arrived at a special region believed to have formed as Marsâ climate was drying.\n",
      "---\n",
      "Title: Mars Mission Shields Up for Tests\n",
      "Preview: Protecting Mars Sample Return spacecraft from micrometeorites requires high-caliber work.\n",
      "---\n",
      "Title: NASA's InSight Waits Out Dust Storm\n",
      "Preview: InSightâs team is taking steps to help the solar-powered lander continue operating for as long as possible.\n",
      "---\n",
      "Title: NASA's InSight 'Hears' Its First Meteoroid Impacts on Mars\n",
      "Preview: The Mars landerâs seismometer has picked up vibrations from four separate impacts in the past two years.\n",
      "---\n",
      "Title: NASA's Perseverance Rover Investigates Geologically Rich Mars Terrain\n",
      "Preview: The latest findings provide greater detail on a region of the Red Planet that has a watery past and is yielding promising samples for the NASA-ESA Mars Sample Return campaign.\n",
      "---\n",
      "Title: NASA to Host Briefing on Perseverance Mars Rover Mission Operations\n",
      "Preview: Members of the mission will discuss the roverâs activities as it gathers samples in an ancient river delta.\n",
      "---\n",
      "Title: NASA's Perseverance Makes New Discoveries in Mars' Jezero Crater\n",
      "Preview: The rover found that Jezero Craterâs floor is made up of volcanic rocks that have interacted with water.\n",
      "---\n",
      "Title: 10 Years Since Landing, NASA's Curiosity Mars Rover Still Has Drive\n",
      "Preview: Despite signs of wear, the intrepid spacecraft is about to start an exciting new chapter of its mission as it climbs a Martian mountain.\n",
      "---\n",
      "Title: SAM's Top 5 Discoveries Aboard NASA's Curiosity Rover at Mars\n",
      "Preview: âSelfieâ of the Curiosity rover with inset showing the SAM instrument prior to installation on the rover.\n",
      "---\n",
      "Title: NASA's MAVEN Observes Martian Light Show Caused by Major Solar Storm\n",
      "Preview: For the first time in its eight years orbiting Mars, NASAâs MAVEN mission witnessed two different types of ultraviolet aurorae simultaneously, the result of solar storms that began on Aug. 27.\n",
      "---\n",
      "Title: NASA Prepares to Say 'Farewell' to InSight Spacecraft\n",
      "Preview: A closer look at what goes into wrapping up the mission as the spacecraftâs power supply continues to dwindle.\n",
      "---\n",
      "Title: NASA and ESA Agree on Next Steps to Return Mars Samples to Earth\n",
      "Preview: The agencyâs Perseverance rover will establish the first sample depot on Mars.\n",
      "---\n",
      "Title: NASA's InSight Lander Detects Stunning Meteoroid Impact on Mars\n",
      "Preview: The agencyâs lander felt the ground shake during the impact while cameras aboard the Mars Reconnaissance Orbiter spotted the yawning new crater from space.\n",
      "---\n",
      "Title: NASA To Host Briefing on InSight, Mars Reconnaissance Orbiter Findings\n",
      "Preview: Scientists from two Mars missions will discuss how they combined images and data for a major finding on the Red Planet.\n",
      "---\n",
      "Title: Why NASA Is Trying To Crash Land on Mars\n",
      "Preview: Like a carâs crumple zone, the experimental SHIELD lander is designed to absorb a hard impact.\n",
      "---\n",
      "Title: Curiosity Mars Rover Reaches Long-Awaited Salty Region\n",
      "Preview: After years of climbing, the Mars rover has arrived at a special region believed to have formed as Marsâ climate was drying.\n",
      "---\n",
      "Title: Mars Mission Shields Up for Tests\n",
      "Preview: Protecting Mars Sample Return spacecraft from micrometeorites requires high-caliber work.\n",
      "---\n",
      "Title: NASA's InSight Waits Out Dust Storm\n",
      "Preview: InSightâs team is taking steps to help the solar-powered lander continue operating for as long as possible.\n",
      "---\n",
      "Title: NASA's InSight 'Hears' Its First Meteoroid Impacts on Mars\n",
      "Preview: The Mars landerâs seismometer has picked up vibrations from four separate impacts in the past two years.\n",
      "---\n",
      "Title: NASA's Perseverance Rover Investigates Geologically Rich Mars Terrain\n",
      "Preview: The latest findings provide greater detail on a region of the Red Planet that has a watery past and is yielding promising samples for the NASA-ESA Mars Sample Return campaign.\n",
      "---\n",
      "Title: NASA to Host Briefing on Perseverance Mars Rover Mission Operations\n",
      "Preview: Members of the mission will discuss the roverâs activities as it gathers samples in an ancient river delta.\n",
      "---\n",
      "Title: NASA's Perseverance Makes New Discoveries in Mars' Jezero Crater\n",
      "Preview: The rover found that Jezero Craterâs floor is made up of volcanic rocks that have interacted with water.\n",
      "---\n",
      "Title: 10 Years Since Landing, NASA's Curiosity Mars Rover Still Has Drive\n",
      "Preview: Despite signs of wear, the intrepid spacecraft is about to start an exciting new chapter of its mission as it climbs a Martian mountain.\n",
      "---\n",
      "Title: SAM's Top 5 Discoveries Aboard NASA's Curiosity Rover at Mars\n",
      "Preview: âSelfieâ of the Curiosity rover with inset showing the SAM instrument prior to installation on the rover.\n",
      "---\n"
     ]
    }
   ],
   "source": [
    "# Loop through the text elements\n",
    "# Extract the title and preview text from the elements\n",
    "# Store each title and preview pair in a dictionary\n",
    "# Add the dictionary to the list\n",
    "\n",
    "# Extract and print titles and previews\n",
    "try:\n",
    "    # Find all articles\n",
    "    for article in soup.find_all('div', class_='list_text'):\n",
    "        # Find the title and preview\n",
    "        title_div = article.find('div', class_='content_title')\n",
    "        preview_div = article.find('div', class_='article_teaser_body')\n",
    "        \n",
    "        # Check if the title and preview were found\n",
    "        if title_div and preview_div:\n",
    "            title = title_div.get_text(strip=True)\n",
    "            preview = preview_div.get_text(strip=True)\n",
    "            \n",
    "            # Create a dictionary for each article\n",
    "            article_dict = {\n",
    "                'title': title,\n",
    "                'preview': preview\n",
    "            }\n",
    "            \n",
    "            # Append the dictionary to the list\n",
    "            articles.append(article_dict)\n",
    "        else:\n",
    "            print(\"Warning: An article's title or preview was not found.\")\n",
    "except Exception as e:\n",
    "    print(f\"An error occurred: {e}\")\n",
    "\n",
    "# Print the list of article dictionaries\n",
    "print(\"List of articles with titles and previews:\\n\")\n",
    "for article in articles:\n",
    "    print(f\"Title: {article['title']}\")\n",
    "    print(f\"Preview: {article['preview']}\")\n",
    "    print('---')\n"
   ]
  },
  {
   "cell_type": "markdown",
   "metadata": {
    "notebookRunGroups": {
     "groupValue": "2"
    }
   },
   "source": [
    "Extract and store titles and previews"
   ]
  },
  {
   "cell_type": "code",
   "execution_count": null,
   "metadata": {},
   "outputs": [
    {
     "name": "stdout",
     "output_type": "stream",
     "text": [
      "{'Title': \"NASA's MAVEN Observes Martian Light Show Caused by Major Solar Storm\", 'Preview': 'For the first time in its eight years orbiting Mars, NASAâs MAVEN mission witnessed two different types of ultraviolet aurorae simultaneously, the result of solar storms that began on Aug. 27.'},\n",
      "{'Title': \"NASA Prepares to Say 'Farewell' to InSight Spacecraft\", 'Preview': 'A closer look at what goes into wrapping up the mission as the spacecraftâs power supply continues to dwindle.'},\n",
      "{'Title': \"NASA and ESA Agree on Next Steps to Return Mars Samples to Earth\", 'Preview': 'The agencyâs Perseverance rover will establish the first sample depot on Mars.'},\n",
      "{'Title': \"NASA's InSight Lander Detects Stunning Meteoroid Impact on Mars\", 'Preview': 'The agencyâs lander felt the ground shake during the impact while cameras aboard the Mars Reconnaissance Orbiter spotted the yawning new crater from space.'},\n",
      "{'Title': \"NASA To Host Briefing on InSight, Mars Reconnaissance Orbiter Findings\", 'Preview': 'Scientists from two Mars missions will discuss how they combined images and data for a major finding on the Red Planet.'},\n",
      "{'Title': \"Why NASA Is Trying To Crash Land on Mars\", 'Preview': 'Like a carâs crumple zone, the experimental SHIELD lander is designed to absorb a hard impact.'},\n",
      "{'Title': \"Curiosity Mars Rover Reaches Long-Awaited Salty Region\", 'Preview': 'After years of climbing, the Mars rover has arrived at a special region believed to have formed as Marsâ climate was drying.'},\n",
      "{'Title': \"Mars Mission Shields Up for Tests\", 'Preview': 'Protecting Mars Sample Return spacecraft from micrometeorites requires high-caliber work.'},\n",
      "{'Title': \"NASA's InSight Waits Out Dust Storm\", 'Preview': 'InSightâs team is taking steps to help the solar-powered lander continue operating for as long as possible.'},\n",
      "{'Title': \"NASA's InSight 'Hears' Its First Meteoroid Impacts on Mars\", 'Preview': 'The Mars landerâs seismometer has picked up vibrations from four separate impacts in the past two years.'},\n",
      "{'Title': \"NASA's Perseverance Rover Investigates Geologically Rich Mars Terrain\", 'Preview': 'The latest findings provide greater detail on a region of the Red Planet that has a watery past and is yielding promising samples for the NASA-ESA Mars Sample Return campaign.'},\n",
      "{'Title': \"NASA to Host Briefing on Perseverance Mars Rover Mission Operations\", 'Preview': 'Members of the mission will discuss the roverâs activities as it gathers samples in an ancient river delta.'},\n",
      "{'Title': \"NASA's Perseverance Makes New Discoveries in Mars' Jezero Crater\", 'Preview': 'The rover found that Jezero Craterâs floor is made up of volcanic rocks that have interacted with water.'},\n",
      "{'Title': \"10 Years Since Landing, NASA's Curiosity Mars Rover Still Has Drive\", 'Preview': 'Despite signs of wear, the intrepid spacecraft is about to start an exciting new chapter of its mission as it climbs a Martian mountain.'},\n",
      "{'Title': \"SAM's Top 5 Discoveries Aboard NASA's Curiosity Rover at Mars\", 'Preview': 'âSelfieâ of the Curiosity rover with inset showing the SAM instrument prior to installation on the rover.'},\n"
     ]
    }
   ],
   "source": [
    "# Create an empty list to store the dictionaries\n",
    "# Initialize a list to store the article dictionaries\n",
    "articles = []\n",
    "\n",
    "# Extract and store titles and previews\n",
    "for article in soup.find_all('div', class_='list_text'):\n",
    "    title_div = article.find('div', class_='content_title')\n",
    "    preview_div = article.find('div', class_='article_teaser_body')\n",
    "    \n",
    "    if title_div and preview_div:\n",
    "        title = title_div.get_text(strip=True)\n",
    "        preview = preview_div.get_text(strip=True)\n",
    "        \n",
    "        # Create a dictionary for each article\n",
    "        article_dict = {\n",
    "            'Title': title,\n",
    "            'Preview': preview\n",
    "        }\n",
    "        \n",
    "        # Append the dictionary to the list\n",
    "        articles.append(article_dict)\n",
    "\n",
    "# Print the entire list of articles\n",
    "for article in articles:\n",
    "    print(f\"{{'Title': \\\"{article['Title']}\\\", 'Preview': '{article['Preview']}'}},\")\n"
   ]
  },
  {
   "cell_type": "code",
   "execution_count": null,
   "metadata": {},
   "outputs": [],
   "source": [
    "\n",
    "#Quit Browser # Initialize the WebDriver\n",
    "driver = webdriver.Chrome(service=ChromeService(ChromeDriverManager().install()))\n",
    "\n",
    "# Quit the browser\n",
    "driver.quit()\n"
   ]
  }
 ],
 "metadata": {
  "kernelspec": {
   "display_name": "Python 3 (ipykernel)",
   "language": "python",
   "name": "python3"
  },
  "language_info": {
   "codemirror_mode": {
    "name": "ipython",
    "version": 3
   },
   "file_extension": ".py",
   "mimetype": "text/x-python",
   "name": "python",
   "nbconvert_exporter": "python",
   "pygments_lexer": "ipython3",
   "version": "3.12.4"
  },
  "vscode": {
   "interpreter": {
    "hash": "31f2aee4e71d21fbe5cf8b01ff0e069b9275f58929596ceb00d14d90e3e16cd6"
   }
  }
 },
 "nbformat": 4,
 "nbformat_minor": 4
}
