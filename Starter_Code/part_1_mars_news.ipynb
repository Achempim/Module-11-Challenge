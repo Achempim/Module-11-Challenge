{
 "cells": [
  {
   "attachments": {},
   "cell_type": "markdown",
   "metadata": {},
   "source": [
    "# Module 11 Challenge\n",
    "## Deliverable 1: Scrape Titles and Preview Text from Mars News"
   ]
  },
  {
   "cell_type": "code",
   "execution_count": 23,
   "metadata": {},
   "outputs": [],
   "source": [
    "# Import Splinter and BeautifulSoup\n",
    "from splinter import Browser\n",
    "from bs4 import BeautifulSoup"
   ]
  },
  {
   "cell_type": "code",
   "execution_count": 22,
   "metadata": {},
   "outputs": [
    {
     "name": "stdout",
     "output_type": "stream",
     "text": [
      "{'Title': \"NASA's MAVEN Observes Martian Light Show Caused by Major Solar Storm\", 'Preview': 'For the first time in its eight years orbiting Mars, NASA’s MAVEN mission witnessed two different types of ultraviolet aurorae simultaneously, the result of solar storms that began on Aug. 27.'}\n",
      "{'Title': \"NASA Prepares to Say 'Farewell' to InSight Spacecraft\", 'Preview': 'A closer look at what goes into wrapping up the mission as the spacecraft’s power supply continues to dwindle.'}\n",
      "{'Title': 'NASA and ESA Agree on Next Steps to Return Mars Samples to Earth', 'Preview': 'The agency’s Perseverance rover will establish the first sample depot on Mars.'}\n",
      "{'Title': \"NASA's InSight Lander Detects Stunning Meteoroid Impact on Mars\", 'Preview': 'The agency’s lander felt the ground shake during the impact while cameras aboard the Mars Reconnaissance Orbiter spotted the yawning new crater from space.'}\n",
      "{'Title': 'NASA To Host Briefing on InSight, Mars Reconnaissance Orbiter Findings', 'Preview': 'Scientists from two Mars missions will discuss how they combined images and data for a major finding on the Red Planet.'}\n",
      "{'Title': 'Why NASA Is Trying To Crash Land on Mars', 'Preview': 'Like a car’s crumple zone, the experimental SHIELD lander is designed to absorb a hard impact.'}\n",
      "{'Title': 'Curiosity Mars Rover Reaches Long-Awaited Salty Region', 'Preview': 'After years of climbing, the Mars rover has arrived at a special region believed to have formed as Mars’ climate was drying.'}\n",
      "{'Title': 'Mars Mission Shields Up for Tests', 'Preview': 'Protecting Mars Sample Return spacecraft from micrometeorites requires high-caliber work.'}\n",
      "{'Title': \"NASA's InSight Waits Out Dust Storm\", 'Preview': 'InSight’s team is taking steps to help the solar-powered lander continue operating for as long as possible.'}\n",
      "{'Title': \"NASA's InSight 'Hears' Its First Meteoroid Impacts on Mars\", 'Preview': 'The Mars lander’s seismometer has picked up vibrations from four separate impacts in the past two years.'}\n",
      "{'Title': \"NASA's Perseverance Rover Investigates Geologically Rich Mars Terrain\", 'Preview': 'The latest findings provide greater detail on a region of the Red Planet that has a watery past and is yielding promising samples for the NASA-ESA Mars Sample Return campaign.'}\n",
      "{'Title': 'NASA to Host Briefing on Perseverance Mars Rover Mission Operations', 'Preview': 'Members of the mission will discuss the rover’s activities as it gathers samples in an ancient river delta.'}\n",
      "{'Title': \"NASA's Perseverance Makes New Discoveries in Mars' Jezero Crater\", 'Preview': 'The rover found that Jezero Crater’s floor is made up of volcanic rocks that have interacted with water.'}\n",
      "{'Title': \"10 Years Since Landing, NASA's Curiosity Mars Rover Still Has Drive\", 'Preview': 'Despite signs of wear, the intrepid spacecraft is about to start an exciting new chapter of its mission as it climbs a Martian mountain.'}\n",
      "{'Title': \"SAM's Top 5 Discoveries Aboard NASA's Curiosity Rover at Mars\", 'Preview': '“Selfie” of the Curiosity rover with inset showing the SAM instrument prior to installation on the rover.'}\n"
     ]
    }
   ],
   "source": [
    "# Step 2: Automate browsing the website using Splinter\n",
    "with Browser('chrome') as browser:\n",
    "    url = 'https://static.bc-edx.com/data/web/mars_news/index.html'\n",
    "    browser.visit(url)\n",
    "    \n",
    "    # Step 3: Create BeautifulSoup object to extract text elements from the website\n",
    "    html = browser.html\n",
    "    soup = BeautifulSoup(html, 'html.parser')\n",
    "    \n",
    "    # Step 4: Extract titles and preview texts of the news articles\n",
    "    articles = soup.find_all('div', class_='list_text')\n",
    "    \n",
    "    # Step 5: Store the scraped results in a Python data structure\n",
    "    news_list = []\n",
    "    for article in articles:\n",
    "        title = article.find('div', class_='content_title').get_text(strip=True)\n",
    "        preview = article.find('div', class_='article_teaser_body').get_text(strip=True)\n",
    "        news_list.append({'Title': title, 'Preview': preview})\n",
    "    \n",
    "    # Step 6: Print the list of dictionaries\n",
    "    for news in news_list:\n",
    "        print(news)\n"
   ]
  },
  {
   "cell_type": "code",
   "execution_count": 21,
   "metadata": {
    "scrolled": true
   },
   "outputs": [],
   "source": [
    "\n",
    "\n",
    "browser = Browser('chrome')  #Initialize a new Browser instance using Chrome as the browser.\n",
    "\n",
    "# Detailed Breakdown:\n",
    "# 1. `browser = Browser('chrome')`:\n",
    "#    - This line initializes a new Browser instance with Chrome as the specified browser.\n",
    "#    - `Browser('chrome')`:\n",
    "#      - The `Browser` function is a part of the Splinter library.\n",
    "#      - `'chrome'` specifies that the Chrome browser should be used for the browser session.\n",
    "#    - This sets up a controlled browser session that can be used to automate interactions with web pages."
   ]
  },
  {
   "attachments": {},
   "cell_type": "markdown",
   "metadata": {},
   "source": [
    "### Step 1: Visit the Website\n",
    "\n",
    "1. Use automated browsing to visit the [Mars news site](https://static.bc-edx.com/data/web/mars_news/index.html). Inspect the page to identify which elements to scrape.\n",
    "\n",
    "      > **Hint** To identify which elements to scrape, you might want to inspect the page by using Chrome DevTools."
   ]
  },
  {
   "cell_type": "code",
   "execution_count": 24,
   "metadata": {},
   "outputs": [],
   "source": [
    "# Step 2: Automate browsing the website using Splinter\n",
    "with Browser('chrome') as browser:\n",
    "    url = 'https://static.bc-edx.com/data/web/mars_news/index.html'\n",
    "    browser.visit(url)\n",
    "\n",
    "\n",
    "# This code sets up the Splinter browser instance using the Chrome browser. It initializes a browser session that\n",
    "# allows for automated interaction with web pages using the Chrome browser.\n",
    "# Visit the Mars news site\n",
    "#url = 'https://static.bc-edx.com/data/web/mars_news/index.html'\n",
    "#browser.visit(url)"
   ]
  },
  {
   "attachments": {},
   "cell_type": "markdown",
   "metadata": {},
   "source": [
    "### Step 2: Scrape the Website\n",
    "\n",
    "Create a Beautiful Soup object and use it to extract text elements from the website."
   ]
  },
  {
   "cell_type": "code",
   "execution_count": 26,
   "metadata": {},
   "outputs": [],
   "source": [
    "# Create a Beautiful Soup object\n",
    "\n"
   ]
  },
  {
   "attachments": {},
   "cell_type": "markdown",
   "metadata": {},
   "source": [
    "### Step 3: Store the Results\n",
    "\n",
    "Extract the titles and preview text of the news articles that you scraped. Store the scraping results in Python data structures as follows:\n",
    "\n",
    "* Store each title-and-preview pair in a Python dictionary. And, give each dictionary two keys: `title` and `preview`. An example is the following:\n",
    "\n",
    "  ```python\n",
    "  {'title': \"NASA's MAVEN Observes Martian Light Show Caused by Major Solar Storm\", \n",
    "   'preview': \"For the first time in its eight years orbiting Mars, NASA’s MAVEN mission witnessed two different types of ultraviolet aurorae simultaneously, the result of solar storms that began on Aug. 27.\"\n",
    "  }\n",
    "  ```\n",
    "\n",
    "* Store all the dictionaries in a Python list.\n",
    "\n",
    "* Print the list in your notebook."
   ]
  },
  {
   "cell_type": "code",
   "execution_count": 27,
   "metadata": {},
   "outputs": [],
   "source": [
    "# Create an empty list to store the dictionaries\n",
    "\n"
   ]
  },
  {
   "cell_type": "code",
   "execution_count": 28,
   "metadata": {},
   "outputs": [],
   "source": [
    "# Loop through the text elements\n",
    "# Extract the title and preview text from the elements\n",
    "# Store each title and preview pair in a dictionary\n",
    "# Add the dictionary to the list\n"
   ]
  },
  {
   "cell_type": "code",
   "execution_count": 29,
   "metadata": {},
   "outputs": [],
   "source": [
    "# Print the list to confirm success\n"
   ]
  },
  {
   "cell_type": "code",
   "execution_count": 9,
   "metadata": {},
   "outputs": [],
   "source": [
    "browser.quit()"
   ]
  },
  {
   "cell_type": "code",
   "execution_count": null,
   "metadata": {},
   "outputs": [],
   "source": []
  }
 ],
 "metadata": {
  "kernelspec": {
   "display_name": "Python 3 (ipykernel)",
   "language": "python",
   "name": "python3"
  },
  "language_info": {
   "codemirror_mode": {
    "name": "ipython",
    "version": 3
   },
   "file_extension": ".py",
   "mimetype": "text/x-python",
   "name": "python",
   "nbconvert_exporter": "python",
   "pygments_lexer": "ipython3",
   "version": "3.12.4"
  },
  "vscode": {
   "interpreter": {
    "hash": "31f2aee4e71d21fbe5cf8b01ff0e069b9275f58929596ceb00d14d90e3e16cd6"
   }
  }
 },
 "nbformat": 4,
 "nbformat_minor": 4
}
